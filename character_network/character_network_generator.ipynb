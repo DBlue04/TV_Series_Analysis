{
 "cells": [
  {
   "cell_type": "markdown",
   "id": "16afb6ef",
   "metadata": {},
   "source": [
    "# I. Import library"
   ]
  },
  {
   "cell_type": "code",
   "execution_count": 1,
   "id": "9f8f83a4",
   "metadata": {},
   "outputs": [],
   "source": [
    "import spacy\n",
    "from nltk import sent_tokenize\n",
    "\n",
    "# import subprocess\n",
    "import os\n",
    "import sys\n",
    "import pathlib\n",
    "folder_path = pathlib.Path().parent.resolve()\n",
    "sys.path.append(os.path.join(folder_path,'../'))\n",
    "from utils import load_subtitles_dataset\n",
    "\n",
    "import pandas as pd\n",
    "import matplotlib.pyplot as plt\n",
    "import networkx as nx\n",
    "from pyvis.network import Network"
   ]
  },
  {
   "cell_type": "code",
   "execution_count": 2,
   "id": "8b0f9b68",
   "metadata": {},
   "outputs": [],
   "source": [
    "# !python -m spacy download en_core_web_trf"
   ]
  },
  {
   "cell_type": "markdown",
   "id": "cdd06aeb",
   "metadata": {},
   "source": [
    "# II. Load models"
   ]
  },
  {
   "cell_type": "code",
   "execution_count": 3,
   "id": "c3c2333f",
   "metadata": {},
   "outputs": [],
   "source": [
    "def load_model():\n",
    "    nlp = spacy.load('en_core_web_trf')\n",
    "    return nlp"
   ]
  },
  {
   "cell_type": "code",
   "execution_count": 4,
   "id": "d6ea0a16",
   "metadata": {},
   "outputs": [
    {
     "name": "stderr",
     "output_type": "stream",
     "text": [
      "/Users/kelvinnguyen/Projects/f5_tts/lib/python3.10/site-packages/tqdm/auto.py:21: TqdmWarning: IProgress not found. Please update jupyter and ipywidgets. See https://ipywidgets.readthedocs.io/en/stable/user_install.html\n",
      "  from .autonotebook import tqdm as notebook_tqdm\n"
     ]
    }
   ],
   "source": [
    "spacy_model = load_model()"
   ]
  },
  {
   "cell_type": "markdown",
   "id": "9ed69d34",
   "metadata": {},
   "source": [
    "# III.Load Dataset"
   ]
  },
  {
   "cell_type": "code",
   "execution_count": 5,
   "id": "9b0df013",
   "metadata": {},
   "outputs": [],
   "source": [
    "dataset_path = \"../data/Subtitles\""
   ]
  },
  {
   "cell_type": "code",
   "execution_count": 6,
   "id": "d7f5e46d",
   "metadata": {},
   "outputs": [],
   "source": [
    "df = load_subtitles_dataset(dataset_path)"
   ]
  },
  {
   "cell_type": "code",
   "execution_count": 7,
   "id": "045e0cb5",
   "metadata": {},
   "outputs": [
    {
     "data": {
      "text/html": [
       "<div>\n",
       "<style scoped>\n",
       "    .dataframe tbody tr th:only-of-type {\n",
       "        vertical-align: middle;\n",
       "    }\n",
       "\n",
       "    .dataframe tbody tr th {\n",
       "        vertical-align: top;\n",
       "    }\n",
       "\n",
       "    .dataframe thead th {\n",
       "        text-align: right;\n",
       "    }\n",
       "</style>\n",
       "<table border=\"1\" class=\"dataframe\">\n",
       "  <thead>\n",
       "    <tr style=\"text-align: right;\">\n",
       "      <th></th>\n",
       "      <th>episode</th>\n",
       "      <th>script</th>\n",
       "    </tr>\n",
       "  </thead>\n",
       "  <tbody>\n",
       "    <tr>\n",
       "      <th>0</th>\n",
       "      <td>94</td>\n",
       "      <td>We are Fighting Dreamers aiming high\\n Fightin...</td>\n",
       "    </tr>\n",
       "    <tr>\n",
       "      <th>1</th>\n",
       "      <td>80</td>\n",
       "      <td>We are Fighting Dreamers aiming high\\n Fightin...</td>\n",
       "    </tr>\n",
       "    <tr>\n",
       "      <th>2</th>\n",
       "      <td>32</td>\n",
       "      <td>Press down hard on the gas\\n That’s right, the...</td>\n",
       "    </tr>\n",
       "    <tr>\n",
       "      <th>3</th>\n",
       "      <td>185</td>\n",
       "      <td>Rock away your existence,\\n Shouting that you ...</td>\n",
       "    </tr>\n",
       "    <tr>\n",
       "      <th>4</th>\n",
       "      <td>191</td>\n",
       "      <td>Rock away your existence,\\n Shouting that you ...</td>\n",
       "    </tr>\n",
       "  </tbody>\n",
       "</table>\n",
       "</div>"
      ],
      "text/plain": [
       "   episode                                             script\n",
       "0       94  We are Fighting Dreamers aiming high\\n Fightin...\n",
       "1       80  We are Fighting Dreamers aiming high\\n Fightin...\n",
       "2       32  Press down hard on the gas\\n That’s right, the...\n",
       "3      185  Rock away your existence,\\n Shouting that you ...\n",
       "4      191  Rock away your existence,\\n Shouting that you ..."
      ]
     },
     "execution_count": 7,
     "metadata": {},
     "output_type": "execute_result"
    }
   ],
   "source": [
    "df.head()"
   ]
  },
  {
   "cell_type": "code",
   "execution_count": 8,
   "id": "4b2d6451",
   "metadata": {},
   "outputs": [
    {
     "data": {
      "text/plain": [
       "'We are Fighting Dreamers aiming high\\n Fighting Dreamers don\\'t care what people think about them\\n Fighting Dreamers follow what they believe\\n Oli Oli Oli Oh! Just go my way\\n Right here right now (Bang) Hit it straight like a line drive!\\n Right here right now (Burn)\\n Down a difficult road filled with endless struggles\\n Where do you think you are going following someone else\\'s map?\\n An insightful crow comes along to tear up the map\\n Now open your eyes and take a look at the truth (Yeah!)\\n There\\'s nothing to lose, so let\\'s GO!!!\\n We are Fighting Dreamers aiming high\\n Fighting Dreamers don\\'t care what people think about them\\n Fighting Dreamers follow what they believe\\n Oli Oli Oli Oh! Just go my way\\n Right here right now (Bang) Hit it straight like a line drive!\\n Right here right now (Burn) We\\'re gonna do it and do our best!\\n Right here right now (Bang) Hit it straight like a line drive!\\n Right here right now (Burn) We\\'re gonna do it and do our best! BANG!\\n My body movements have finally returned…\\n Blood…\\n Lady Tsunade!\\n Say! Say! What’s happening?!\\n Why’s Kabuto fighting with Old Lady Tsunade?!\\n Take a good look at the headband!\\n He’s Orochimaru’s subordinate.\\n Attack! Fury of the Rasengan!\\n That man is Orochimaru…\\n Shizune, you take care of the guy with the glasses…\\n I’ll take care of Orochimaru.\\n Before that, I’d like to have Tsunade do something about this body.\\n The effects of that drug might still last for awhile…\\n There’s nothing that I can do about it.\\n What? Really?\\n Geez. I guess it can’t be helped.\\n I have no choice but to fight in this condition.\\n Tsunade… Rest your body with Recovery Ninjutsu.\\n Then… What about me, me?\\n You guard Tsunade together with that pig.\\n What?! I want to fight, too. Even I can--\\n No, you won’t!\\n Like that four-eyed kid said, right?\\n You’re on a different level.\\n The opponent is a Sannin like myself,\\n and the man who killed the Third Hokage.\\n An eye for an eye… I’m the only one who can fight him.\\n And that four-eyed guy possesses the same level of power as Kakashi.\\n Okay.\\n Then… Shadow Clo--\\n Hold it!\\n Don’t use the Shadow Clone Jutsu. lt’d be utterly pointless.\\n What?\\n It wouldn’t even become much of a diversion…\\n It’d be a waste of Chakra…\\n with them as opponents.\\n Now then, let’s get this thing started.\\n – Summoning Jutsu. – Summoning Jutsu.\\n Hi.\\n – Huh?! \\t\\t\\t\\t\\t– What is this?!\\n – Wha--?! – What the heck’s going on?!\\n Long time no see.\\n On account of the drug,\\n Master Jiraiya still can’t build up Chakra very well.\\n It looks like your stupid still hasn’t healed, eh, Jiraiya.\\n That’s too much even for you with no ability.\\n It seems Tsunade got you with something.\\n A sacrifice was necessary for that Jutsu,\\n so perhaps she was thinking ahead and drugged him\\n with something that would contain his power.\\n To think she’d make a sacrifice of Jiraiya…\\n Well, it sounds just like Tsunade.\\n To think I’d already have my handicap spotted.\\n You are such a disgraceful guy as always…\\n Dang it. It kind of ticks me off when the Pervy Sage is mocked.\\n Summoning…Jutsu!\\n The Nine-Tailed Fox kid from the Chunin Exam.\\n I wonder if I should’ve killed him then, after all.\\n For the sake of the Akatsuki organization,\\n I acknowledged his achievement… and let him slide by.\\n But the only ones who can break a Five-Pronged Spell\\n are the Sannin members and the Third Hokage.\\n Which means Jiraiya may have already taught it to Naruto.\\n Perhaps.\\n If he’s able to control the Nine-Tailed Fox’s power…\\n Oh…\\n Th-This is…\\n It doesn’t quite look to be so.\\n He isn’t endowed with Shinobi ability to begin with, so…\\n Why?\\n He’s still got a long way to go, sure enough.\\n Why?!\\n Hello.\\n Hey, Gamatatsu. Why did you come out?\\n Oh, Brother Gamakichi.\\n It’s the first time I’ve been Summoned.\\n I-I wonder if I can do my best?\\n Idiot. Get some snacks or something and hide.\\n What? I can get snacks? Goody-goody.\\n Here I go.\\n I’ll take Jiraiya.\\n I leave the rest to you.\\n It’s unfortunate…\\n Here I also wanted to fight Lord Jiraiya, one of the Sannin.\\n Naruto!\\n Your opponent is me.\\n Earth Style! Dark Swamp!\\n Dang it. I can’t completely sink them with such a puny swamp.\\n The drug is still working.\\n But…with this, the snakes can’t move.\\n Ninja Art! Poison Fog!\\n I’ll be up a creek if I take even one breath.\\n My leg tendons…!\\n I won’t be eaten twice…! No way!\\n Here I go.\\n Ninja Art! Needle Jizo!\\n Dang it…The Jutsu isn’t working well.\\n Even if we both have handicaps, you won’t one-up me…\\n Give up now.\\n It’s unfortunate…\\n Here I had respected you as a fellow Medical Ninja.\\n Stop. Stay back!\\n Please hang on, Lady Tsunade…\\n The Sannin name, which Lord Orochimaru is also called, will cry.\\n My body’s heavy.\\n To think you who were once called the village madness\\n would ferry around such a kid and struggle tirelessly for the village.\\n You’ve really fallen, haven’t you?\\n I have a keen eye to discern ability.\\n And that kid…is mediocrity in my eyes.\\n It’s precisely for this reason… that I don’t need the Uchiha kid.\\n It’s no fun raising a genius who’s good from the start.\\n So you can’t leave him alone\\n because it’s like you’re looking at your old self?\\n That kid can’t beat Uchiha who inherited the inherent Sharingan Shinobi skill.\\n And that’s because Naruto doesn’t possess the Sharingan.\\n Shinobi ability is about whether\\n one can use and master all the Jutsu of the world.\\n Ninja refers to one who can use Ninjutsu.\\n Shinobi ability is no such thing.\\n You still don’t get it?\\n A Ninja…is one who endures.\\n It’s a difference of opinion, huh.\\n I’ll teach you one thing.\\n What’s most important for Shinobi ability…\\n isn’t the number of Jutsu one possesses.\\n What’s important is…\\n The mettle…\\n not to give up.\\n Enough already…you jerk!\\n The mettle to never give up…\\n He possesses that.\\n Heh. I don’t know what Jutsu you learned,\\n but you can’t hit me with such a large motion.\\n No good.\\n It won’t easily hit with a moving opponent.\\n Owwee!\\n And the Chakra isn’t completely held, yet…\\n It seems you got a cracked thigh bone in your left leg\\n from the battle with the snake.\\n Well, you can still move if it’s just the bone.\\n But it’s impossible now…\\n The lateral vastus muscle in your right leg is totally cut off.\\n What should I do…?\\n That Jutsu of mine uses both hands.\\n If even one arm is taken out, it’s over.\\n Are you scared of me?\\n Do you want to run away from here?\\n Naruto, as I recall,\\n you whooped it up like this during the first Chunin Exam.\\n Don’t mess with me. I won’t run away!\\n \"Don’t mess with me. I won’t run away.\"\\n \"I’ll take it. Even if I’m a Genin for life…\"\\n \"I’ll become the Hokage at any cost, so it’s okay with me.\"\\n \"I’m not scared.\"\\n Can you… whoop it up in the same way now?\\n Unlike you…\\n I will be the heir to the Hokage name no matter what!\\n – Hokage is my dream! – Hokage is my dream!\\n You’re not a kid anymore, so you should stop whooping it up…\\n Depending on the situation,\\n when you want to give up and run away, you should run away.\\n Oh my… What’s with that look?\\n You’ll die! If you die, there are no dreams or anything…\\n Do you want to die?\\n You’re still a Genin, so you should run away on the battlefield.\\n Don’t tell a man to run away.\\n Kids think that everything is easy.\\n That’s why they talk about foolish dreams like nothing at all.\\n That’s why they can’t give up.\\n Jiraiya, was it you who taught him that Rasengan?\\n Are you acting like a teacher by teaching a Jutsu that can’t be learned?\\n Don’t give him false hopes.\\n That’s why a moony kid starts joking that he’ll become the Hokage!\\n They chase after foolish dreams… and then die.\\n If I have three days, I’ll master that Jutsu.\\n Then let\\'s make a bet.\\n Bastard!\\n As for me… I stand by my words.\\n That’s…my Way of Ninja!\\n A bet?\\n I’ll give you one week.\\n If you can master that Jutsu,\\n I’ll acknowledge that you’ll be able to become the Hokage…\\n and give you this necklace.\\n You should’ve just stayed out of this…\\n Why?\\n Why?!\\n Old Lady Tsunade…\\n You’re still going to get up?\\n Just like our wager\\n I will definitely win that unlucky necklace from you.\\n Shadow Clone Jutsu!\\n Shadow Clone won’t do anything now.\\n Enough… Don’t protect me, Naruto. Stop it!\\n I told you that you’d die if you were obstinate like that, right?\\n If you die, there will be no dreams, no nothing.\\n Just get out of the way. Run away.\\n Humph… It’s okay.\\n I…\\n I absolutely will not die…\\n until I become the Hokage!\\n This way, I can hold on to you. Here I go!\\n It’s the same Chakra movement as before.\\n No, this is…different.\\n I see.\\n In order to gain a hand for suppressing Chakra,\\n the Shadow Clone…\\n Compress Chakra and…\\n hold it completely.\\n Wha--?!\\n I-It can’t be.\\n Rasengan!\\n I believe your promise, its a true heart give me courage\\n Always I feel it the precious time with you\\n On your still shoulder\\n I feel the wind that blows towards tomorrow\\n The city lights are like pieces of stars\\n That hold us together\\n “Each one of us glows differently,”\\n you say laughingly\\n but you look most dazzling\\n Like a comet,\\n like the rainbow after the storm\\n You bring light into my heart\\n Being lost can be the answer\\n Let’s promise we won’t cheat\\n Uh... like a shooting star, we do go ahead.\\n I never forget my ideal…\\n to develop the Village Hidden in the Leaf and protect its people.\\n The Hokages have sacrificed their lives for that dream.\\n And now, I also will put my life on the line.\\n From this moment, I am the Fifth Hokage!\\n Next time: \"The Fifth Hokage! A Life on the Line!\"\\n'"
      ]
     },
     "execution_count": 8,
     "metadata": {},
     "output_type": "execute_result"
    }
   ],
   "source": [
    "sample_script = df.iloc[0]['script']\n",
    "sample_script"
   ]
  },
  {
   "cell_type": "code",
   "execution_count": 9,
   "id": "9238a7cf",
   "metadata": {},
   "outputs": [],
   "source": [
    "sentence = sent_tokenize(sample_script)"
   ]
  },
  {
   "cell_type": "code",
   "execution_count": 10,
   "id": "36445254",
   "metadata": {},
   "outputs": [],
   "source": [
    "sentences = sentence[60:90]"
   ]
  },
  {
   "cell_type": "code",
   "execution_count": 11,
   "id": "929da1ba",
   "metadata": {},
   "outputs": [],
   "source": [
    "sentence = \".\".join(sentences)"
   ]
  },
  {
   "cell_type": "code",
   "execution_count": 12,
   "id": "1a54de74",
   "metadata": {},
   "outputs": [
    {
     "data": {
      "text/plain": [
       "'To think I’d already have my handicap spotted..You are such a disgraceful guy as always…\\n Dang it..It kind of ticks me off when the Pervy Sage is mocked..Summoning…Jutsu!.The Nine-Tailed Fox kid from the Chunin Exam..I wonder if I should’ve killed him then, after all..For the sake of the Akatsuki organization,\\n I acknowledged his achievement… and let him slide by..But the only ones who can break a Five-Pronged Spell\\n are the Sannin members and the Third Hokage..Which means Jiraiya may have already taught it to Naruto..Perhaps..If he’s able to control the Nine-Tailed Fox’s power…\\n Oh…\\n Th-This is…\\n It doesn’t quite look to be so..He isn’t endowed with Shinobi ability to begin with, so…\\n Why?.He’s still got a long way to go, sure enough..Why?!.Hello..Hey, Gamatatsu..Why did you come out?.Oh, Brother Gamakichi..It’s the first time I’ve been Summoned..I-I wonder if I can do my best?.Idiot..Get some snacks or something and hide..What?.I can get snacks?.Goody-goody..Here I go..I’ll take Jiraiya..I leave the rest to you..It’s unfortunate…\\n Here I also wanted to fight Lord Jiraiya, one of the Sannin..Naruto!'"
      ]
     },
     "execution_count": 12,
     "metadata": {},
     "output_type": "execute_result"
    }
   ],
   "source": [
    "sentence"
   ]
  },
  {
   "cell_type": "markdown",
   "id": "aa0e9280",
   "metadata": {},
   "source": [
    "# IV. Run model"
   ]
  },
  {
   "cell_type": "code",
   "execution_count": 13,
   "id": "d5da8b08",
   "metadata": {},
   "outputs": [],
   "source": [
    "doc = spacy_model(sentence)"
   ]
  },
  {
   "cell_type": "code",
   "execution_count": 14,
   "id": "b7e0b0ef",
   "metadata": {},
   "outputs": [
    {
     "data": {
      "text/plain": [
       "(the Pervy Sage,\n",
       " the Chunin Exam,\n",
       " Akatsuki,\n",
       " Five,\n",
       " Sannin,\n",
       " Third,\n",
       " Jiraiya,\n",
       " Naruto,\n",
       " Shinobi,\n",
       " Gamatatsu,\n",
       " Gamakichi,\n",
       " first,\n",
       " Jiraiya,\n",
       " Jiraiya,\n",
       " Sannin,\n",
       " Naruto)"
      ]
     },
     "execution_count": 14,
     "metadata": {},
     "output_type": "execute_result"
    }
   ],
   "source": [
    "doc.ents"
   ]
  },
  {
   "cell_type": "code",
   "execution_count": 15,
   "id": "80235ead",
   "metadata": {},
   "outputs": [
    {
     "name": "stdout",
     "output_type": "stream",
     "text": [
      "the Pervy Sage PERSON\n",
      "the Chunin Exam EVENT\n",
      "Akatsuki ORG\n",
      "Five CARDINAL\n",
      "Sannin NORP\n",
      "Third ORDINAL\n",
      "Jiraiya PERSON\n",
      "Naruto PERSON\n",
      "Shinobi NORP\n",
      "Gamatatsu PERSON\n",
      "Gamakichi PERSON\n",
      "first ORDINAL\n",
      "Jiraiya PERSON\n",
      "Jiraiya PERSON\n",
      "Sannin NORP\n",
      "Naruto PERSON\n"
     ]
    }
   ],
   "source": [
    "for entity in doc.ents:\n",
    "    print(entity.text, entity.label_)"
   ]
  },
  {
   "cell_type": "code",
   "execution_count": 16,
   "id": "ba85a005",
   "metadata": {},
   "outputs": [],
   "source": [
    "def generate_ner_inference(script):\n",
    "    sentences = sent_tokenize(script)\n",
    "    output = []\n",
    "    for sentence in sentences:\n",
    "        # script = \".\".join(sentence)\n",
    "        ners = set()\n",
    "        doc = spacy_model(sentence)\n",
    "        for entity in doc.ents:\n",
    "            if entity.label_ == \"PERSON\":\n",
    "\n",
    "                first_name = entity.text.split(\" \")[0]\n",
    "                first_name = first_name.strip()\n",
    "                ners.add(first_name)\n",
    "        output.append(ners)\n",
    "    return output\n",
    "\n",
    "#For example: after getting name and label, then filter label with PERSON, I will have name of all people\n",
    "# E.g: set(Kakashi, Jiraiya, haha hoho...) -> set to get unique Name\n",
    "# -> Then I need to get their first name\n",
    "# E.g: set*(Kakashi, Jiraiya, haha...)\n",
    "# -> Next, I add this set to the list\n",
    "# -> [set*(Kakashi, Jiraiya, haha...),...]"
   ]
  },
  {
   "cell_type": "markdown",
   "id": "63664ed2",
   "metadata": {},
   "source": [
    "NOTES: Remember to check the synonym name, for example Pervy sage = Jiraiya"
   ]
  },
  {
   "cell_type": "code",
   "execution_count": 17,
   "id": "3765a1c6",
   "metadata": {},
   "outputs": [],
   "source": [
    "df['ners'] = df['script'].apply(generate_ner_inference)"
   ]
  },
  {
   "cell_type": "code",
   "execution_count": 18,
   "id": "27b92d37",
   "metadata": {},
   "outputs": [
    {
     "data": {
      "text/html": [
       "<div>\n",
       "<style scoped>\n",
       "    .dataframe tbody tr th:only-of-type {\n",
       "        vertical-align: middle;\n",
       "    }\n",
       "\n",
       "    .dataframe tbody tr th {\n",
       "        vertical-align: top;\n",
       "    }\n",
       "\n",
       "    .dataframe thead th {\n",
       "        text-align: right;\n",
       "    }\n",
       "</style>\n",
       "<table border=\"1\" class=\"dataframe\">\n",
       "  <thead>\n",
       "    <tr style=\"text-align: right;\">\n",
       "      <th></th>\n",
       "      <th>episode</th>\n",
       "      <th>script</th>\n",
       "      <th>ners</th>\n",
       "    </tr>\n",
       "  </thead>\n",
       "  <tbody>\n",
       "    <tr>\n",
       "      <th>0</th>\n",
       "      <td>94</td>\n",
       "      <td>We are Fighting Dreamers aiming high\\n Fightin...</td>\n",
       "      <td>[{Oli}, {}, {}, {}, {}, {Oli}, {}, {Burn}, {},...</td>\n",
       "    </tr>\n",
       "    <tr>\n",
       "      <th>1</th>\n",
       "      <td>80</td>\n",
       "      <td>We are Fighting Dreamers aiming high\\n Fightin...</td>\n",
       "      <td>[{Oli}, {}, {}, {}, {}, {Oli}, {}, {Burn}, {},...</td>\n",
       "    </tr>\n",
       "    <tr>\n",
       "      <th>2</th>\n",
       "      <td>32</td>\n",
       "      <td>Press down hard on the gas\\n That’s right, the...</td>\n",
       "      <td>[{}, {}, {}, {}, {}, {}, {Lee}, {}, {}, {}, {}...</td>\n",
       "    </tr>\n",
       "    <tr>\n",
       "      <th>3</th>\n",
       "      <td>185</td>\n",
       "      <td>Rock away your existence,\\n Shouting that you ...</td>\n",
       "      <td>[{}, {}, {}, {}, {}, {}, {}, {}, {}, {}, {}, {...</td>\n",
       "    </tr>\n",
       "    <tr>\n",
       "      <th>4</th>\n",
       "      <td>191</td>\n",
       "      <td>Rock away your existence,\\n Shouting that you ...</td>\n",
       "      <td>[{}, {}, {}, {}, {}, {}, {}, {}, {}, {Hinata},...</td>\n",
       "    </tr>\n",
       "    <tr>\n",
       "      <th>...</th>\n",
       "      <td>...</td>\n",
       "      <td>...</td>\n",
       "      <td>...</td>\n",
       "    </tr>\n",
       "    <tr>\n",
       "      <th>213</th>\n",
       "      <td>154</td>\n",
       "      <td>I want to try and gather the unrestrained wind...</td>\n",
       "      <td>[{}, {}, {}, {The}, {}, {}, {}, {}, {}, {my}, ...</td>\n",
       "    </tr>\n",
       "    <tr>\n",
       "      <th>214</th>\n",
       "      <td>188</td>\n",
       "      <td>Rock away your existence,\\n Shouting that you ...</td>\n",
       "      <td>[{}, {}, {}, {}, {}, {}, {}, {Choji}, {}, {}, ...</td>\n",
       "    </tr>\n",
       "    <tr>\n",
       "      <th>215</th>\n",
       "      <td>99</td>\n",
       "      <td>We are Fighting Dreamers aiming high\\n Fightin...</td>\n",
       "      <td>[{Oli}, {}, {}, {}, {}, {Oli}, {}, {Burn}, {},...</td>\n",
       "    </tr>\n",
       "    <tr>\n",
       "      <th>216</th>\n",
       "      <td>103</td>\n",
       "      <td>We are Fighting Dreamers aiming high\\n Fightin...</td>\n",
       "      <td>[{Oli}, {}, {}, {}, {}, {Oli}, {}, {Burn}, {},...</td>\n",
       "    </tr>\n",
       "    <tr>\n",
       "      <th>217</th>\n",
       "      <td>201</td>\n",
       "      <td>Rock away your existence,\\n Shouting that you ...</td>\n",
       "      <td>[{}, {}, {}, {}, {}, {}, {}, {}, {}, {Genno}, ...</td>\n",
       "    </tr>\n",
       "  </tbody>\n",
       "</table>\n",
       "<p>218 rows × 3 columns</p>\n",
       "</div>"
      ],
      "text/plain": [
       "     episode                                             script  \\\n",
       "0         94  We are Fighting Dreamers aiming high\\n Fightin...   \n",
       "1         80  We are Fighting Dreamers aiming high\\n Fightin...   \n",
       "2         32  Press down hard on the gas\\n That’s right, the...   \n",
       "3        185  Rock away your existence,\\n Shouting that you ...   \n",
       "4        191  Rock away your existence,\\n Shouting that you ...   \n",
       "..       ...                                                ...   \n",
       "213      154  I want to try and gather the unrestrained wind...   \n",
       "214      188  Rock away your existence,\\n Shouting that you ...   \n",
       "215       99  We are Fighting Dreamers aiming high\\n Fightin...   \n",
       "216      103  We are Fighting Dreamers aiming high\\n Fightin...   \n",
       "217      201  Rock away your existence,\\n Shouting that you ...   \n",
       "\n",
       "                                                  ners  \n",
       "0    [{Oli}, {}, {}, {}, {}, {Oli}, {}, {Burn}, {},...  \n",
       "1    [{Oli}, {}, {}, {}, {}, {Oli}, {}, {Burn}, {},...  \n",
       "2    [{}, {}, {}, {}, {}, {}, {Lee}, {}, {}, {}, {}...  \n",
       "3    [{}, {}, {}, {}, {}, {}, {}, {}, {}, {}, {}, {...  \n",
       "4    [{}, {}, {}, {}, {}, {}, {}, {}, {}, {Hinata},...  \n",
       "..                                                 ...  \n",
       "213  [{}, {}, {}, {The}, {}, {}, {}, {}, {}, {my}, ...  \n",
       "214  [{}, {}, {}, {}, {}, {}, {}, {Choji}, {}, {}, ...  \n",
       "215  [{Oli}, {}, {}, {}, {}, {Oli}, {}, {Burn}, {},...  \n",
       "216  [{Oli}, {}, {}, {}, {}, {Oli}, {}, {Burn}, {},...  \n",
       "217  [{}, {}, {}, {}, {}, {}, {}, {}, {}, {Genno}, ...  \n",
       "\n",
       "[218 rows x 3 columns]"
      ]
     },
     "execution_count": 18,
     "metadata": {},
     "output_type": "execute_result"
    }
   ],
   "source": [
    "df"
   ]
  },
  {
   "cell_type": "code",
   "execution_count": 19,
   "id": "491e5530",
   "metadata": {},
   "outputs": [],
   "source": [
    "def generate_character_network(df):\n",
    "    n = 10 # Limit find relationships within 10 sentences (actually it's is the last 10 entity :v)\n",
    "\n",
    "    entity_relationship = []\n",
    "\n",
    "    for episode in df['ners']:\n",
    "\n",
    "        entities = []\n",
    "        for sentence in episode:\n",
    "            entities.append(list(sentence))\n",
    "            entities = entities[-n:]\n",
    "            flattened_entities = sum(entities, [])\n",
    "\n",
    "            for entity1 in sentence:\n",
    "                for entity2 in flattened_entities:\n",
    "                    if entity1 != entity2:\n",
    "                        entity_relationship.append(sorted([entity1,entity2]))\n",
    "\n",
    "    df = pd.DataFrame({\"value\": entity_relationship})\n",
    "    df['source'] = df['value'].apply(lambda x : x[0])\n",
    "    df['target'] = df['value'].apply(lambda x : x[1])\n",
    "    df = df.groupby(['source', 'target']).count().reset_index()\n",
    "\n",
    "    df = df.sort_values('value', ascending=False)\n",
    "\n",
    "    return df"
   ]
  },
  {
   "cell_type": "code",
   "execution_count": 20,
   "id": "0245e6a6",
   "metadata": {},
   "outputs": [],
   "source": [
    "df = generate_character_network(df)"
   ]
  },
  {
   "cell_type": "code",
   "execution_count": 21,
   "id": "a831fca8",
   "metadata": {},
   "outputs": [
    {
     "data": {
      "text/html": [
       "<div>\n",
       "<style scoped>\n",
       "    .dataframe tbody tr th:only-of-type {\n",
       "        vertical-align: middle;\n",
       "    }\n",
       "\n",
       "    .dataframe tbody tr th {\n",
       "        vertical-align: top;\n",
       "    }\n",
       "\n",
       "    .dataframe thead th {\n",
       "        text-align: right;\n",
       "    }\n",
       "</style>\n",
       "<table border=\"1\" class=\"dataframe\">\n",
       "  <thead>\n",
       "    <tr style=\"text-align: right;\">\n",
       "      <th></th>\n",
       "      <th>source</th>\n",
       "      <th>target</th>\n",
       "      <th>value</th>\n",
       "    </tr>\n",
       "  </thead>\n",
       "  <tbody>\n",
       "    <tr>\n",
       "      <th>2895</th>\n",
       "      <td>Naruto</td>\n",
       "      <td>Sasuke</td>\n",
       "      <td>891</td>\n",
       "    </tr>\n",
       "    <tr>\n",
       "      <th>3342</th>\n",
       "      <td>Sakura</td>\n",
       "      <td>Sasuke</td>\n",
       "      <td>527</td>\n",
       "    </tr>\n",
       "    <tr>\n",
       "      <th>2888</th>\n",
       "      <td>Naruto</td>\n",
       "      <td>Sakura</td>\n",
       "      <td>462</td>\n",
       "    </tr>\n",
       "    <tr>\n",
       "      <th>1517</th>\n",
       "      <td>Hinata</td>\n",
       "      <td>Naruto</td>\n",
       "      <td>345</td>\n",
       "    </tr>\n",
       "    <tr>\n",
       "      <th>3147</th>\n",
       "      <td>Orochimaru</td>\n",
       "      <td>Sasuke</td>\n",
       "      <td>280</td>\n",
       "    </tr>\n",
       "    <tr>\n",
       "      <th>...</th>\n",
       "      <td>...</td>\n",
       "      <td>...</td>\n",
       "      <td>...</td>\n",
       "    </tr>\n",
       "    <tr>\n",
       "      <th>1848</th>\n",
       "      <td>Ino</td>\n",
       "      <td>Shadow</td>\n",
       "      <td>1</td>\n",
       "    </tr>\n",
       "    <tr>\n",
       "      <th>683</th>\n",
       "      <td>Chishima</td>\n",
       "      <td>Tenten</td>\n",
       "      <td>1</td>\n",
       "    </tr>\n",
       "    <tr>\n",
       "      <th>2670</th>\n",
       "      <td>Lee</td>\n",
       "      <td>Tsunada</td>\n",
       "      <td>1</td>\n",
       "    </tr>\n",
       "    <tr>\n",
       "      <th>1849</th>\n",
       "      <td>Ino</td>\n",
       "      <td>Sharingan</td>\n",
       "      <td>1</td>\n",
       "    </tr>\n",
       "    <tr>\n",
       "      <th>0</th>\n",
       "      <td>-Gaara</td>\n",
       "      <td>Akamaru</td>\n",
       "      <td>1</td>\n",
       "    </tr>\n",
       "  </tbody>\n",
       "</table>\n",
       "<p>3782 rows × 3 columns</p>\n",
       "</div>"
      ],
      "text/plain": [
       "          source     target  value\n",
       "2895      Naruto     Sasuke    891\n",
       "3342      Sakura     Sasuke    527\n",
       "2888      Naruto     Sakura    462\n",
       "1517      Hinata     Naruto    345\n",
       "3147  Orochimaru     Sasuke    280\n",
       "...          ...        ...    ...\n",
       "1848         Ino     Shadow      1\n",
       "683     Chishima     Tenten      1\n",
       "2670         Lee    Tsunada      1\n",
       "1849         Ino  Sharingan      1\n",
       "0         -Gaara    Akamaru      1\n",
       "\n",
       "[3782 rows x 3 columns]"
      ]
     },
     "execution_count": 21,
     "metadata": {},
     "output_type": "execute_result"
    }
   ],
   "source": [
    "df"
   ]
  },
  {
   "cell_type": "code",
   "execution_count": 22,
   "id": "08617b65",
   "metadata": {},
   "outputs": [],
   "source": [
    "df = df.sort_values('value', ascending=False)\n",
    "df = df.head(200)"
   ]
  },
  {
   "cell_type": "code",
   "execution_count": 23,
   "id": "5639957a",
   "metadata": {},
   "outputs": [
    {
     "name": "stdout",
     "output_type": "stream",
     "text": [
      "naruto.html\n"
     ]
    },
    {
     "data": {
      "text/html": [
       "\n",
       "        <iframe\n",
       "            width=\"1000px\"\n",
       "            height=\"700px\"\n",
       "            src=\"naruto.html\"\n",
       "            frameborder=\"0\"\n",
       "            allowfullscreen\n",
       "            \n",
       "        ></iframe>\n",
       "        "
      ],
      "text/plain": [
       "<IPython.lib.display.IFrame at 0x31831b520>"
      ]
     },
     "execution_count": 23,
     "metadata": {},
     "output_type": "execute_result"
    }
   ],
   "source": [
    "G = nx.from_pandas_edgelist(\n",
    "    df,\n",
    "    source='source',\n",
    "    target='target',\n",
    "    edge_attr='value',\n",
    "    create_using=nx.Graph()\n",
    ")\n",
    "node_degree = dict(G.degree)\n",
    "nx.set_node_attributes(G,node_degree,'size')\n",
    "net = Network(notebook=True, width='1000px', height='700px', bgcolor=\"#222222\", font_color=\"white\", cdn_resources=\"remote\")\n",
    "net.from_nx(G) \n",
    "net.show(\"naruto.html\")"
   ]
  },
  {
   "cell_type": "code",
   "execution_count": null,
   "id": "110b6c21",
   "metadata": {},
   "outputs": [],
   "source": []
  }
 ],
 "metadata": {
  "kernelspec": {
   "display_name": "f5_tts",
   "language": "python",
   "name": "python3"
  },
  "language_info": {
   "codemirror_mode": {
    "name": "ipython",
    "version": 3
   },
   "file_extension": ".py",
   "mimetype": "text/x-python",
   "name": "python",
   "nbconvert_exporter": "python",
   "pygments_lexer": "ipython3",
   "version": "3.10.16"
  }
 },
 "nbformat": 4,
 "nbformat_minor": 5
}
